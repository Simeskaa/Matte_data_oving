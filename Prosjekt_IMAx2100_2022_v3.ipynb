{
 "cells": [
  {
   "cell_type": "markdown",
   "metadata": {},
   "source": [
    "# Prosjektoppgave: Plotting av vektorfelt, nivåkurver og integralkurver\n",
    "Vi skal se på det elektriske feltet som oppstår fra to ladninger. Coulombs lov sier at en partikkel med ladning $q_0$ ved punkt $\\mathbf{r}_0$ virker på en ladning $q$ ved punkt $\\mathbf{r}$ med kraft \n",
    "\n",
    "$$\n",
    "    \\mathbf{F}(\\mathbf{r})=C\\frac{q_0 q}{\\vert \\mathbf{r}-\\mathbf{r}_0\\vert^3}(\\mathbf{r}-\\mathbf{r}_0)\n",
    "$$\n",
    "\n",
    "Det elektriske feltet fra $q_0$ får vi ved å gjøre dette til et vektorfelt som avhenger av $\\mathbf{r}$ for q=1.\n",
    "For enkelhets skyld lar vi konstanten C=1.\n",
    "\n",
    "**a)** Bruk dette til å forklare at det elektriske feltet fra to ladninger $q_1=-2$ og $q_2=1$ ved punktene $\\mathbf{r}_1=\\begin{pmatrix}0\\\\1\\\\0\\end{pmatrix}$ og $\\mathbf{r}_2=\\begin{pmatrix}0\\\\-1\\\\0\\end{pmatrix}$ kan skrives\n",
    "\n",
    "$$\n",
    "    \\mathbf{E}(\\mathbf{r})=\\frac{q_1}{\\vert \\mathbf{r}-\\mathbf{r}_1\\vert^3}(\\mathbf{r}-\\mathbf{r}_1)+\\frac{q_2}{\\vert \\mathbf{r}-\\mathbf{r}_2\\vert^3}(\\mathbf{r}-\\mathbf{r}_2),\n",
    "$$\n",
    "\n",
    "og vis at $z=0$ gir $E_3=0$ så vi får et todimensjonalt vektorfelt $\\mathbf{E}(x,y)=(E_1(x,y),E_2(x,y))$ hvis vi begrenser $\\mathbf{E}$ til xy-planet.\n",
    "\n",
    "Du trenger ikke levere noe på denne deloppgaven.\n"
   ]
  },
  {
   "cell_type": "markdown",
   "metadata": {},
   "source": [
    "## Dataøving\n",
    "\n",
    "**b) Bruk Python** til å plotte et vektorfelt i xy-planet.\n",
    "\n",
    "*Hint:* Her er det lurt å begynne med å utrykke vektorfeltet $\\mathbf{E}(x,y)$ med hensyn på $x$ og $y$.\n",
    "Når du har beregnet vektorer $\\mathbf{E}(\\mathbf{r})$ skal disse normaliseres (omformes til enhetsvektorer som peker i samme retningene). Plott enhetsvektorene.\n",
    "Vi har allerede importert de bibliotekene du kommer til å trenge. Vi anbefaler å bruke det foreslåtte x- og y-verdiene.\n",
    "\n",
    "*Kommentar:* Vi mister noe informasjon ved å plotte enhetsvektorer istedenfor vektorene $\\mathbf{E}(\\mathbf{r})$. Men enhetsvektorene gir en god visualisering av retningene til vektorfeltet."
   ]
  },
  {
   "cell_type": "code",
   "execution_count": 1,
   "metadata": {
    "scrolled": true
   },
   "outputs": [
    {
     "data": {
      "text/plain": [
       "<Figure size 360x360 with 0 Axes>"
      ]
     },
     "metadata": {},
     "output_type": "display_data"
    }
   ],
   "source": [
    "import matplotlib.pyplot as plt\n",
    "import numpy as np\n",
    "\n",
    "# Defining parameters such as q1, q2\n",
    "q_1=-2\n",
    "q_2=1\n",
    "\n",
    "#Defining the grid (includes suggested x- and y- values)\n",
    "xp = np.linspace(-2, 2, 20) \n",
    "yp = np.linspace(-2, 2, 20)\n",
    "X,Y=np.meshgrid(xp,yp)\n",
    "\n",
    "#Setting the size of the figure\n",
    "fig=plt.figure(figsize=(5,5))\n",
    "\n",
    "#the electric field and the vector values on the grid.\n",
    "\n",
    "\n",
    "#plotting the vector field\n"
   ]
  },
  {
   "cell_type": "markdown",
   "metadata": {},
   "source": [
    "**c) Bruk Python** til å tegne tre forskjellige feltlinjer/integralkurver som starter i nærheten av $\\mathbf{r}_2$. Dvs. du skal tegne integralkurvene gjennom tre ulike, vilkårlig valgte punkter. Du kan starte med å importere odeint fra scipy.integrate (se eksempelfilen).\n",
    "\n",
    "*Hint:* Hva skjer når en fletlinje nærmer seg $\\mathbf{r}_2$? Dette kan forklare uforventete visualiseringer av feltlinjer.\n"
   ]
  },
  {
   "cell_type": "code",
   "execution_count": null,
   "metadata": {},
   "outputs": [],
   "source": [
    "import numpy as np\n",
    "\n",
    "#Setting the size of the figure\n",
    "fig=plt.figure(figsize=(5,5))\n",
    "\n",
    "#plotting the vector field\n",
    "plt.quiver(X,Y,u,v)\n",
    "\n",
    "from scipy.integrate import odeint\n",
    "\n",
    "#function returning E with variables to make easy use of odeint\n",
    "def f(punkt, t): \n",
    "    x, y = punkt\n",
    "    deltax =  # innføy din definisjon av E1\n",
    "    deltay =  # innføy din definisjon av E2\n",
    "    return [deltax, deltay]\n",
    "\n",
    "\n",
    "#Caluclating three integral curves\n",
    "\n",
    "\n",
    "#Plotting the integral curves\n"
   ]
  },
  {
   "cell_type": "markdown",
   "metadata": {},
   "source": [
    "**d) Bruk Python** til å vise at vektorfeltet $\\mathbf{E}$ (begrenset til z=0) er konservativt med potensiale \n",
    "$$\n",
    "    \\phi(x,y)=-\\frac{q_1}{\\sqrt{x^2+(y-1)^2}}-\\frac{q_2}{\\sqrt{x^2+(y+1)^2}}.\n",
    "$$\n",
    "\n",
    "*Hint:* Du kan bruke sympy til å regne ut de partiellderiverte. Du bør starte med å importere sympy.\n",
    "\n",
    "\n",
    "\n"
   ]
  },
  {
   "cell_type": "code",
   "execution_count": null,
   "metadata": {},
   "outputs": [],
   "source": [
    "from sympy import *\n",
    "\n",
    "#Defining our sympy variables\n",
    "\n",
    "\n",
    "#Defining the potential\n",
    "potential = # innføy potensialet\n",
    "\n",
    "#Finding the vector field by differentiating the potential\n",
    "# 'powsimp' simplifies mathematical expressions using laws of indices involving powers\n",
    "u1=powsimp(diff(potential, x))\n",
    "u2=powsimp(diff(potential, y))\n",
    "\n",
    "#Defining the vector field from the given expression.\n",
    "v1=powsimp( #Please fill)\n",
    "v2=powsimp( # Please fill)\n",
    "\n",
    "#Comparing the expression of the vector field and the gradient of the potential\n",
    "print(u1)\n",
    "print(v1)\n",
    "print(u2)\n",
    "print(v2)\n",
    "print(u1==v1)\n",
    "print(u2==v2)"
   ]
  },
  {
   "cell_type": "markdown",
   "metadata": {},
   "source": [
    "**e) bruk Python** til å til å tegne inn nivåkurver for verdiene $-0.7, -0.2, 0.5, 2.0$. Tegn alle nivåkurvene i samme plot sammen med integralkurvene. Hvis du gjør dette riktig så vil du se at integralkurvene står normalt på nivåkurvene."
   ]
  },
  {
   "cell_type": "code",
   "execution_count": null,
   "metadata": {},
   "outputs": [],
   "source": [
    "#The potential function on the grid\n",
    "\n",
    "#Setting the size of the figure\n",
    "fig=plt.figure(figsize=(5,5))\n",
    "\n",
    "#Plotting the level curves of the potential\n",
    "\n",
    "#Plotting the integral curves"
   ]
  },
  {
   "cell_type": "markdown",
   "metadata": {},
   "source": [
    "**!)** *Ekstra nøtt:* For vilkårlig $q_1$ og $q_2$: Hva tror du fluksen gjennom en lukket kurve som innkapsler begge ladningene? Hva med sirkulasjonen rundt en slik kurve?"
   ]
  }
 ],
 "metadata": {
  "kernelspec": {
   "display_name": "Python 3",
   "language": "python",
   "name": "python3"
  },
  "language_info": {
   "codemirror_mode": {
    "name": "ipython",
    "version": 3
   },
   "file_extension": ".py",
   "mimetype": "text/x-python",
   "name": "python",
   "nbconvert_exporter": "python",
   "pygments_lexer": "ipython3",
   "version": "3.8.3"
  }
 },
 "nbformat": 4,
 "nbformat_minor": 5
}
